{
 "cells": [
  {
   "cell_type": "markdown",
   "metadata": {},
   "source": [
    "# Section 508.4 - Separated occupancies\n",
    "## Building Code\n",
    "Buildings or portions of buildings that comply with the provisions of this section shall be considered as separated occupancies. \n",
    "\n",
    "### TABLE 508.4 REQUIRED SEPARATION OF OCCUPANCIES (HOURS) "
   ]
  },
  {
   "cell_type": "markdown",
   "metadata": {},
   "source": [
    "- **S**: Buildings equipped throughout with an automatic sprinkler system installed in accordance with Section 903.3.1.1.\n",
    "- **NS**: Buildings not equipped throughout with an automatic sprinkler system installed in accordance with Section 903.3.1.1.\n",
    "- **N**: No separation requirement.\n",
    "- **NP**: Not permitted.\n",
    "\n",
    "a. See Section 420.\n",
    "\n",
    "b. The required separation from areas used only for private or pleasure vehicles shall be reduced by 1 hour but not to less than 1 hour.\n",
    "\n",
    "c. See Section 406.3.4.\n",
    "\n",
    "d. Separation is not required between occupancies of the same classification.\n",
    "\n",
    "e. See Section 422.2 for ambulatory care facilities.\n",
    "\n",
    "This section is considered: Passed\n",
    "\n",
    "It is understood that buildings or portions of buildings that comply with the provisions of this section are considered as separated occupancies."
   ]
  }
 ],
 "metadata": {
  "language_info": {
   "name": "python"
  }
 },
 "nbformat": 4,
 "nbformat_minor": 2
}
