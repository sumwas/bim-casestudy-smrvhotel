{
 "cells": [
  {
   "cell_type": "markdown",
   "metadata": {},
   "source": [
    "# Section 506.2.2 - Mixed-occupancy, one-story buildings\n",
    "## Building Code\n",
    "```\n",
    "The allowable area of a mixed-occupancy building with no more than one story above grade plane shall be determined in accordance with the applicable provisions of Section 508.1 based on Equation 5-1 for each applicable occupancy. \n",
    "```"
   ]
  },
  {
   "cell_type": "code",
   "execution_count": 1,
   "metadata": {},
   "outputs": [],
   "source": [
    "import sys\n",
    "import os\n",
    "\n",
    "# Add the path to the Rule Notebooks folder to the system path\n",
    "sys.path.append(os.path.abspath('../..'))\n",
    "\n",
    "# Import the find_value function from table_lookup.py\n",
    "from ruleFunctions import get_building_info"
   ]
  },
  {
   "cell_type": "code",
   "execution_count": 2,
   "metadata": {},
   "outputs": [],
   "source": [
    "from SPARQLWrapper import SPARQLWrapper, JSON\n",
    "\n",
    "with open(\"../../../fuseki_endpoints.txt\", \"r\") as file:\n",
    "    endpoint_url = file.read()\n",
    "    \n",
    "\n",
    "sparql = SPARQLWrapper(endpoint_url)"
   ]
  },
  {
   "cell_type": "code",
   "execution_count": 3,
   "metadata": {},
   "outputs": [],
   "source": [
    "# Call the function to get the building information\n",
    "_, _, _, _, _, storey_num = get_building_info(endpoint_url)\n"
   ]
  },
  {
   "cell_type": "code",
   "execution_count": 4,
   "metadata": {},
   "outputs": [
    {
     "name": "stdout",
     "output_type": "stream",
     "text": [
      "4\n"
     ]
    }
   ],
   "source": [
    "from SPARQLWrapper import SPARQLWrapper, JSON\n",
    "\n",
    "# Initialize SPARQL wrapper and set endpoint\n",
    "sparql = SPARQLWrapper(endpoint_url)\n",
    "\n",
    "# Read the SPARQL query from file\n",
    "with open(\"..\\..\\..\\SPARQL\\\\uniqueOccupancy.sparql\", \"r\") as file:\n",
    "    sparql_query = file.read()\n",
    "\n",
    "# Set the SPARQL query and the return format\n",
    "sparql.setQuery(sparql_query)\n",
    "sparql.setReturnFormat(JSON)\n",
    "\n",
    "# Execute the query and get the results in JSON format\n",
    "results = sparql.query().convert()\n",
    "\n",
    "# Process results to get the number of unique occupancies\n",
    "story_dict = {}\n",
    "\n",
    "for result in results[\"results\"][\"bindings\"]:\n",
    "    level_value = result[\"levelValue\"][\"value\"]\n",
    "    occupancies = result[\"uniqueOccupancies\"][\"value\"].split(\", \")\n",
    "\n",
    "    if level_value not in story_dict:\n",
    "        story_dict[level_value] = []\n",
    "\n",
    "    story_dict[level_value].extend(occupancies)\n",
    "\n",
    "# Calculate the number of unique occupancies\n",
    "num_unique_occupancies = 0\n",
    "\n",
    "for occupancies in story_dict.values():\n",
    "    unique_occupancies = set(occupancies)  # Remove duplicates\n",
    "    num_unique_occupancies = max(num_unique_occupancies, len(unique_occupancies))\n",
    "\n",
    "print(num_unique_occupancies)"
   ]
  },
  {
   "cell_type": "code",
   "execution_count": 5,
   "metadata": {},
   "outputs": [
    {
     "name": "stdout",
     "output_type": "stream",
     "text": [
      "This section is considered: Not Applicable\n",
      "\n",
      "This section only applies if the building is single story and mixed occupancies. However, this building has:\n",
      "• Multiple Stories\n",
      "\n",
      "Section 506.2.2.1 will not apply as it also only applies for single story mixed occupancy buildings\n"
     ]
    }
   ],
   "source": [
    "if storey_num.lstrip('0') == 1: \n",
    "    if num_unique_occupancies == 1: \n",
    "        result = \"Not Applicable\"\n",
    "    else:\n",
    "        result = \"Applicable\"\n",
    "else: \n",
    "    result = \"Not Applicable\"\n",
    "    \n",
    "print(f\"This section is considered: {result}\"\n",
    "      \"\\n\\nThis section only applies if the building is single story and mixed occupancies. However, this building has:\")\n",
    "\n",
    "if storey_num.lstrip('0') == 1: \n",
    "    print(\"• One Story\")\n",
    "else: \n",
    "    print(\"• Multiple Stories\")\n",
    "\n",
    "print(\"\\nSection 506.2.2.1 will not apply as it also only applies for single story mixed occupancy buildings\")"
   ]
  },
  {
   "cell_type": "markdown",
   "metadata": {},
   "source": [
    "# Section 506.2.2.1 - Group H-2 or H-3 mixed occupancies\n",
    "## Building Code\n",
    "`For a building containing Group H-2 or H-3 occupancies, the allowable area shall be determined in accordance with Section 508.4.2, with the sprinkler system increase applicable only to the portions of the building not classified as Group H-2 or H-3.`\n"
   ]
  },
  {
   "cell_type": "code",
   "execution_count": 6,
   "metadata": {},
   "outputs": [
    {
     "name": "stdout",
     "output_type": "stream",
     "text": [
      "This section is considered: Not Applicable\n",
      "\n",
      "This section only applies if the building is single story and mixed occupancies with H-2 or H-3 occupancies. However, this building has:\n",
      "• Multiple Stories\n",
      "• Neither H-2 nor H-3 occupancies\n"
     ]
    }
   ],
   "source": [
    "# Initialize a set to collect unique occupancies\n",
    "all_occupancies = set()\n",
    "\n",
    "# Iterate through the story_dict to collect all occupancies\n",
    "for occupancies in story_dict.values():\n",
    "    all_occupancies.update(occupancies)\n",
    "\n",
    "# Check for \"H-1\" and \"H-2\"\n",
    "contains_h1_h2 = \"H-1\" in all_occupancies or \"H-2\" in all_occupancies\n",
    "\n",
    "if result == \"Not Applicable\":\n",
    "    result_H = \"Not Applicable\"\n",
    "elif result == \"Applicable\":\n",
    "    if contains_h1_h2: \n",
    "        result_H = \"Applicable\"\n",
    "    else: \n",
    "        result_H = \"Not Applicable\"\n",
    "        \n",
    "print(f\"This section is considered: {result_H}\"\n",
    "      \"\\n\\nThis section only applies if the building is single story and mixed occupancies with H-2 or H-3 occupancies. However, this building has:\")\n",
    "\n",
    "if storey_num.lstrip('0') == 1: \n",
    "    print(\"• One Story\")\n",
    "else: \n",
    "    print(\"• Multiple Stories\")\n",
    "    \n",
    "if contains_h1_h2: \n",
    "    print(\"• H-2 nor H-3 occupancies\")\n",
    "else: \n",
    "    print(\"• Neither H-2 nor H-3 occupancies\")"
   ]
  }
 ],
 "metadata": {
  "kernelspec": {
   "display_name": "Python 3",
   "language": "python",
   "name": "python3"
  },
  "language_info": {
   "codemirror_mode": {
    "name": "ipython",
    "version": 3
   },
   "file_extension": ".py",
   "mimetype": "text/x-python",
   "name": "python",
   "nbconvert_exporter": "python",
   "pygments_lexer": "ipython3",
   "version": "3.11.5"
  }
 },
 "nbformat": 4,
 "nbformat_minor": 2
}
