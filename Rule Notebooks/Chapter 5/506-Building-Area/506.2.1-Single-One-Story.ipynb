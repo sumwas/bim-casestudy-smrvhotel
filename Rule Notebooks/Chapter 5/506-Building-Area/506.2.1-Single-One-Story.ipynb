{
 "cells": [
  {
   "cell_type": "markdown",
   "metadata": {},
   "source": [
    "# Section 506.2.1 - Single-occupancy, one-story buildings\n",
    "## Building Code\n",
    "```\n",
    "The allowable area of a single-occupancy building with no more than one story above grade plane shall be determined in accordance with Equation 5-1: \n",
    "\n",
    "Aa = At + (NS x If)  (Equation 5-1)\n",
    "\n",
    "where: \n",
    "\n",
    "Aa = Allowable area (square feet). \n",
    "At = Tabular allowable area factor (NS, S1, orS13R value, as applicable) in accordance with Table 506.2. \n",
    "NS = Tabular allowable area factor in accordancewith Table 506.2 for nonsprinklered building (regardless of whether thebuilding is sprinklered). \n",
    "If = Area factor increase due to frontage(percent) as calculated in accordance with Section 506.3. \n",
    "```"
   ]
  },
  {
   "cell_type": "code",
   "execution_count": 1,
   "metadata": {},
   "outputs": [],
   "source": [
    "import sys\n",
    "import os\n",
    "\n",
    "# Add the path to the Rule Notebooks folder to the system path\n",
    "sys.path.append(os.path.abspath('../..'))\n",
    "\n",
    "# Import the find_value function from table_lookup.py\n",
    "from ruleFunctions import get_building_info"
   ]
  },
  {
   "cell_type": "code",
   "execution_count": 2,
   "metadata": {},
   "outputs": [],
   "source": [
    "from SPARQLWrapper import SPARQLWrapper, JSON\n",
    "\n",
    "with open(\"../../../fuseki_endpoints.txt\", \"r\") as file:\n",
    "    endpoint_url = file.read()\n",
    "    \n",
    "\n",
    "sparql = SPARQLWrapper(endpoint_url)"
   ]
  },
  {
   "cell_type": "code",
   "execution_count": 3,
   "metadata": {},
   "outputs": [],
   "source": [
    "# Call the function to get the building information\n",
    "_, _, _, _, _, storey_num = get_building_info(endpoint_url)\n"
   ]
  },
  {
   "cell_type": "code",
   "execution_count": 4,
   "metadata": {},
   "outputs": [],
   "source": [
    "from SPARQLWrapper import SPARQLWrapper, JSON\n",
    "\n",
    "# Initialize SPARQL wrapper and set endpoint\n",
    "sparql = SPARQLWrapper(endpoint_url)\n",
    "\n",
    "# Read the SPARQL query from file\n",
    "with open(\"..\\..\\..\\SPARQL\\\\uniqueOccupancy.sparql\", \"r\") as file:\n",
    "    sparql_query = file.read()\n",
    "\n",
    "# Set the SPARQL query and the return format\n",
    "sparql.setQuery(sparql_query)\n",
    "sparql.setReturnFormat(JSON)\n",
    "\n",
    "# Execute the query and get the results in JSON format\n",
    "results = sparql.query().convert()\n",
    "\n",
    "# Process results to get the number of unique occupancies\n",
    "story_dict = {}\n",
    "\n",
    "for result in results[\"results\"][\"bindings\"]:\n",
    "    level_value = result[\"levelValue\"][\"value\"]\n",
    "    occupancies = result[\"uniqueOccupancies\"][\"value\"].split(\", \")\n",
    "\n",
    "    if level_value not in story_dict:\n",
    "        story_dict[level_value] = []\n",
    "\n",
    "    story_dict[level_value].extend(occupancies)\n",
    "\n",
    "# Calculate the number of unique occupancies\n",
    "num_unique_occupancies = 0\n",
    "\n",
    "for occupancies in story_dict.values():\n",
    "    unique_occupancies = set(occupancies)  # Remove duplicates\n",
    "    num_unique_occupancies = max(num_unique_occupancies, len(unique_occupancies))\n",
    "\n",
    "#print(num_unique_occupancies)\n"
   ]
  },
  {
   "cell_type": "code",
   "execution_count": 5,
   "metadata": {},
   "outputs": [
    {
     "name": "stdout",
     "output_type": "stream",
     "text": [
      "This section is considered: Not Applicable\n",
      "\n",
      "This section only applies if the building is a single story and a single occupancy. However, this building has:\n",
      "• Multiple Stories\n",
      "• Mixed Occupancies\n"
     ]
    }
   ],
   "source": [
    "if int(storey_num)== 1: \n",
    "    if num_unique_occupancies == 1: \n",
    "        result = \"Applicable\"\n",
    "    else:\n",
    "        result = \"Not Applicable\"\n",
    "else: \n",
    "    result = \"Not Applicable\"\n",
    "    \n",
    "print(f\"This section is considered: {result}\"\n",
    "      \"\\n\\nThis section only applies if the building is a single story and a single occupancy. However, this building has:\")\n",
    "\n",
    "if int(storey_num) == 1: \n",
    "    print(\"• One Story\")\n",
    "else: \n",
    "    print(\"• Multiple Stories\")\n",
    "\n",
    "if num_unique_occupancies == 1: \n",
    "    print(\"• One Occupancy\")\n",
    "else: \n",
    "    print(\"• Mixed Occupancies\")"
   ]
  }
 ],
 "metadata": {
  "kernelspec": {
   "display_name": "base",
   "language": "python",
   "name": "python3"
  },
  "language_info": {
   "codemirror_mode": {
    "name": "ipython",
    "version": 3
   },
   "file_extension": ".py",
   "mimetype": "text/x-python",
   "name": "python",
   "nbconvert_exporter": "python",
   "pygments_lexer": "ipython3",
   "version": "3.9.19"
  }
 },
 "nbformat": 4,
 "nbformat_minor": 2
}
